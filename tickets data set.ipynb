{
 "cells": [
  {
   "cell_type": "code",
   "execution_count": 1,
   "metadata": {},
   "outputs": [],
   "source": [
    "import pandas as pd\n",
    "import numpy as np\n",
    "import seaborn as sns\n",
    "import matplotlib.pyplot as plt\n",
    "import warnings\n",
    "import csv\n",
    "warnings.filterwarnings(\"ignore\")\n",
    "\n",
    "from sklearn.cluster import KMeans\n",
    "from scipy.spatial.distance import cdist, pdist\n",
    "from sklearn.metrics import silhouette_score\n",
    "from sklearn.cluster import AgglomerativeClustering\n",
    "from scipy.cluster.hierarchy import dendrogram, ward, complete, average\n",
    "from sklearn.cluster import DBSCAN\n",
    "from sklearn.preprocessing import StandardScaler"
   ]
  },
  {
   "cell_type": "code",
   "execution_count": 2,
   "metadata": {},
   "outputs": [
    {
     "data": {
      "text/html": [
       "<div>\n",
       "<style scoped>\n",
       "    .dataframe tbody tr th:only-of-type {\n",
       "        vertical-align: middle;\n",
       "    }\n",
       "\n",
       "    .dataframe tbody tr th {\n",
       "        vertical-align: top;\n",
       "    }\n",
       "\n",
       "    .dataframe thead th {\n",
       "        text-align: right;\n",
       "    }\n",
       "</style>\n",
       "<table border=\"1\" class=\"dataframe\">\n",
       "  <thead>\n",
       "    <tr style=\"text-align: right;\">\n",
       "      <th></th>\n",
       "      <th>CustomerID</th>\n",
       "      <th>Gender</th>\n",
       "      <th>Age</th>\n",
       "      <th>Annual Income (k$)</th>\n",
       "      <th>Spending Score (1-100)</th>\n",
       "    </tr>\n",
       "  </thead>\n",
       "  <tbody>\n",
       "    <tr>\n",
       "      <th>129</th>\n",
       "      <td>130</td>\n",
       "      <td>Male</td>\n",
       "      <td>38</td>\n",
       "      <td>71</td>\n",
       "      <td>75</td>\n",
       "    </tr>\n",
       "  </tbody>\n",
       "</table>\n",
       "</div>"
      ],
      "text/plain": [
       "     CustomerID Gender  Age  Annual Income (k$)  Spending Score (1-100)\n",
       "129         130   Male   38                  71                      75"
      ]
     },
     "execution_count": 2,
     "metadata": {},
     "output_type": "execute_result"
    }
   ],
   "source": [
    "mall = pd.read_csv('D:\\Mall_Customers.csv')\n",
    "mall.sample()"
   ]
  },
  {
   "cell_type": "code",
   "execution_count": 3,
   "metadata": {},
   "outputs": [],
   "source": [
    "mall.rename(columns = {'Annual Income (k$)': 'Annual_Income', 'Spending Score (1-100)': 'Spending_Score'}, inplace = True)"
   ]
  },
  {
   "cell_type": "code",
   "execution_count": 4,
   "metadata": {},
   "outputs": [
    {
     "data": {
      "text/html": [
       "<div>\n",
       "<style scoped>\n",
       "    .dataframe tbody tr th:only-of-type {\n",
       "        vertical-align: middle;\n",
       "    }\n",
       "\n",
       "    .dataframe tbody tr th {\n",
       "        vertical-align: top;\n",
       "    }\n",
       "\n",
       "    .dataframe thead th {\n",
       "        text-align: right;\n",
       "    }\n",
       "</style>\n",
       "<table border=\"1\" class=\"dataframe\">\n",
       "  <thead>\n",
       "    <tr style=\"text-align: right;\">\n",
       "      <th></th>\n",
       "      <th>CustomerID</th>\n",
       "      <th>Gender</th>\n",
       "      <th>Age</th>\n",
       "      <th>Annual_Income</th>\n",
       "      <th>Spending_Score</th>\n",
       "    </tr>\n",
       "  </thead>\n",
       "  <tbody>\n",
       "    <tr>\n",
       "      <th>175</th>\n",
       "      <td>176</td>\n",
       "      <td>Female</td>\n",
       "      <td>30</td>\n",
       "      <td>88</td>\n",
       "      <td>86</td>\n",
       "    </tr>\n",
       "  </tbody>\n",
       "</table>\n",
       "</div>"
      ],
      "text/plain": [
       "     CustomerID  Gender  Age  Annual_Income  Spending_Score\n",
       "175         176  Female   30             88              86"
      ]
     },
     "execution_count": 4,
     "metadata": {},
     "output_type": "execute_result"
    }
   ],
   "source": [
    "mall.sample()"
   ]
  },
  {
   "cell_type": "code",
   "execution_count": 5,
   "metadata": {},
   "outputs": [],
   "source": [
    "mall_clust = mall[['Annual_Income', 'Spending_Score']]"
   ]
  },
  {
   "cell_type": "code",
   "execution_count": 6,
   "metadata": {},
   "outputs": [
    {
     "data": {
      "image/png": "[encoded data removed]",
      "text/plain": [
       "<Figure size 432x432 with 1 Axes>"
      ]
     },
     "metadata": {
      "needs_background": "light"
     },
     "output_type": "display_data"
    }
   ],
   "source": [
    "plt.figure(figsize=(6,6))\n",
    "sns.scatterplot(x = 'Annual_Income', y = 'Spending_Score', data = mall_clust)\n",
    "plt.xlabel('Annual Income')\n",
    "plt.ylabel('Spending Score')\n",
    "plt.show() "
   ]
  },
  {
   "cell_type": "code",
   "execution_count": 7,
   "metadata": {},
   "outputs": [
    {
     "data": {
      "text/plain": [
       "0.0965528913348881"
      ]
     },
     "execution_count": 7,
     "metadata": {},
     "output_type": "execute_result"
    }
   ],
   "source": [
    "scaler = StandardScaler()\n",
    "mall_clust_scaled = scaler.fit_transform(mall_clust)\n",
    "dbscan = DBSCAN(eps = 0.2, min_samples = 10)\n",
    "cluster = dbscan.fit_predict(mall_clust_scaled)\n",
    "\n",
    "silhouette_score(mall_clust_scaled, cluster)"
   ]
  },
  {
   "cell_type": "code",
   "execution_count": 8,
   "metadata": {},
   "outputs": [
    {
     "name": "stdout",
     "output_type": "stream",
     "text": [
      "\n",
      "eps 0.2\n",
      "\\min samples 6\n",
      "clusters present: [-1  0  1  2  3]\n",
      "clusters sizes: [95 78 10  9  8]\n",
      "Silhouette Score: 0.09644483815713828\n",
      "\n",
      "eps 0.2\n",
      "\\min samples 7\n",
      "clusters present: [-1  0  1  2  3]\n",
      "clusters sizes: [100  78   8   7   7]\n",
      "Silhouette Score: 0.05559332249286136\n",
      "\n",
      "eps 0.2\n",
      "\\min samples 8\n",
      "clusters present: [-1  0  1]\n",
      "clusters sizes: [116  76   8]\n",
      "Silhouette Score: 0.04120506369450063\n",
      "\n",
      "eps 0.2\n",
      "\\min samples 9\n",
      "clusters present: [-1  0]\n",
      "clusters sizes: [128  72]\n",
      "Silhouette Score: 0.10238770147236753\n",
      "\n",
      "eps 0.3\n",
      "\\min samples 6\n",
      "clusters present: [-1  0  1  2  3  4  5]\n",
      "clusters sizes: [48 10  6 87 26 14  9]\n",
      "Silhouette Score: 0.2498353162292518\n",
      "\n",
      "eps 0.3\n",
      "\\min samples 7\n",
      "clusters present: [-1  0  1  2  3]\n",
      "clusters sizes: [72 10 82 24 12]\n",
      "Silhouette Score: 0.23146493255355374\n",
      "\n",
      "eps 0.3\n",
      "\\min samples 8\n",
      "clusters present: [-1  0  1  2  3  4]\n",
      "clusters sizes: [72 10 82 12 12 12]\n",
      "Silhouette Score: 0.19432071085905328\n",
      "\n",
      "eps 0.3\n",
      "\\min samples 9\n",
      "clusters present: [-1  0  1  2  3]\n",
      "clusters sizes: [86 82 12 10 10]\n",
      "Silhouette Score: 0.1460941923615792\n",
      "\n",
      "eps 0.4\n",
      "\\min samples 6\n",
      "clusters present: [-1  0  1  2  3]\n",
      "clusters sizes: [ 19 112  11  32  26]\n",
      "Silhouette Score: 0.40428214327588685\n",
      "\n",
      "eps 0.4\n",
      "\\min samples 7\n",
      "clusters present: [-1  0  1  2  3]\n",
      "clusters sizes: [ 20  12 111  31  26]\n",
      "Silhouette Score: 0.40430352024479016\n",
      "\n",
      "eps 0.4\n",
      "\\min samples 8\n",
      "clusters present: [-1  0  1  2  3  4]\n",
      "clusters sizes: [25 14 12 95 30 24]\n",
      "Silhouette Score: 0.4148124800517594\n",
      "\n",
      "eps 0.4\n",
      "\\min samples 9\n",
      "clusters present: [-1  0  1  2  3]\n",
      "clusters sizes: [45 12 91 29 23]\n",
      "Silhouette Score: 0.3448055213289852\n",
      "\n",
      "eps 0.5\n",
      "\\min samples 6\n",
      "clusters present: [-1  0  1]\n",
      "clusters sizes: [ 11 154  35]\n",
      "Silhouette Score: 0.3597246686657918\n",
      "\n",
      "eps 0.5\n",
      "\\min samples 7\n",
      "clusters present: [-1  0  1]\n",
      "clusters sizes: [ 12 154  34]\n",
      "Silhouette Score: 0.35261506078723714\n",
      "\n",
      "eps 0.5\n",
      "\\min samples 8\n",
      "clusters present: [-1  0  1]\n",
      "clusters sizes: [ 15 151  34]\n",
      "Silhouette Score: 0.3471977366353613\n",
      "\n",
      "eps 0.5\n",
      "\\min samples 9\n",
      "clusters present: [-1  0  1  2]\n",
      "clusters sizes: [ 17 138  12  33]\n",
      "Silhouette Score: 0.31732880330547364\n"
     ]
    }
   ],
   "source": [
    "for eps in [i/10 for i in range(2,6)]:\n",
    "    for min_samples in range (6,10):\n",
    "        print(f'\\neps {eps}')\n",
    "        print(f'\\min samples {min_samples}')\n",
    "        \n",
    "        dbscan = DBSCAN(eps = eps, min_samples = min_samples)\n",
    "        labels = dbscan.fit_predict(mall_clust_scaled)\n",
    "        score = silhouette_score(mall_clust_scaled, labels)\n",
    "        \n",
    "        print(f'clusters present: {np.unique(labels)}')\n",
    "        print(f'clusters sizes: {np.bincount(labels + 1)}')\n",
    "        print(f'Silhouette Score: {score}')"
   ]
  },
  {
   "cell_type": "code",
   "execution_count": 9,
   "metadata": {},
   "outputs": [],
   "source": [
    "dbscan = DBSCAN(eps = 0.4, min_samples = 8)\n",
    "labels = dbscan.fit_predict(mall_clust_scaled)\n",
    "mall_clust['cluster'] = labels"
   ]
  },
  {
   "cell_type": "code",
   "execution_count": 10,
   "metadata": {},
   "outputs": [
    {
     "data": {
      "image/png": "[encoded data removed]",
      "text/plain": [
       "<Figure size 576x576 with 1 Axes>"
      ]
     },
     "metadata": {
      "needs_background": "light"
     },
     "output_type": "display_data"
    }
   ],
   "source": [
    "plt.figure(figsize = (8,8))\n",
    "sns.scatterplot(x = 'Annual_Income', y = 'Spending_Score', data = mall_clust, hue = 'cluster', palette = 'bright')\n",
    "plt.title('DBSCAN')\n",
    "plt.show()"
   ]
  },
  {
   "cell_type": "code",
   "execution_count": 11,
   "metadata": {},
   "outputs": [
    {
     "data": {
      "text/html": [
       "<div>\n",
       "<style scoped>\n",
       "    .dataframe tbody tr th:only-of-type {\n",
       "        vertical-align: middle;\n",
       "    }\n",
       "\n",
       "    .dataframe tbody tr th {\n",
       "        vertical-align: top;\n",
       "    }\n",
       "\n",
       "    .dataframe thead th {\n",
       "        text-align: right;\n",
       "    }\n",
       "</style>\n",
       "<table border=\"1\" class=\"dataframe\">\n",
       "  <thead>\n",
       "    <tr style=\"text-align: right;\">\n",
       "      <th></th>\n",
       "      <th>Color</th>\n",
       "      <th>Cluster DBSCAN</th>\n",
       "      <th>Annual Income VS Spending Score</th>\n",
       "    </tr>\n",
       "  </thead>\n",
       "  <tbody>\n",
       "    <tr>\n",
       "      <th>0</th>\n",
       "      <td>Blue</td>\n",
       "      <td>Cluster -1</td>\n",
       "      <td>Noise</td>\n",
       "    </tr>\n",
       "    <tr>\n",
       "      <th>1</th>\n",
       "      <td>Orange</td>\n",
       "      <td>Cluster 0</td>\n",
       "      <td>Low Income VS High Spending</td>\n",
       "    </tr>\n",
       "    <tr>\n",
       "      <th>2</th>\n",
       "      <td>Green</td>\n",
       "      <td>Cluster 1</td>\n",
       "      <td>Lowest Income  VS Lowest Spending</td>\n",
       "    </tr>\n",
       "    <tr>\n",
       "      <th>3</th>\n",
       "      <td>Red</td>\n",
       "      <td>Cluster 2</td>\n",
       "      <td>Medium Income VS Medium Spending</td>\n",
       "    </tr>\n",
       "    <tr>\n",
       "      <th>4</th>\n",
       "      <td>Purple</td>\n",
       "      <td>Cluster 3</td>\n",
       "      <td>High Income VS Highest Spending</td>\n",
       "    </tr>\n",
       "    <tr>\n",
       "      <th>5</th>\n",
       "      <td>Brown</td>\n",
       "      <td>Cluster 4</td>\n",
       "      <td>High Income VS Low Spending</td>\n",
       "    </tr>\n",
       "  </tbody>\n",
       "</table>\n",
       "</div>"
      ],
      "text/plain": [
       "    Color Cluster DBSCAN    Annual Income VS Spending Score\n",
       "0    Blue     Cluster -1                              Noise\n",
       "1  Orange      Cluster 0        Low Income VS High Spending\n",
       "2   Green      Cluster 1  Lowest Income  VS Lowest Spending\n",
       "3     Red      Cluster 2   Medium Income VS Medium Spending\n",
       "4  Purple      Cluster 3    High Income VS Highest Spending\n",
       "5   Brown      Cluster 4        High Income VS Low Spending"
      ]
     },
     "execution_count": 11,
     "metadata": {},
     "output_type": "execute_result"
    }
   ],
   "source": [
    "cluster_name = ['Cluster -1', 'Cluster 0', 'Cluster 1', 'Cluster 2', 'Cluster 3', 'Cluster 4']\n",
    "color = ['Blue', 'Orange', 'Green', 'Red', 'Purple', 'Brown']\n",
    "vs_list = ['Noise', 'Low Income VS High Spending', 'Lowest Income  VS Lowest Spending',\n",
    "           'Medium Income VS Medium Spending', 'High Income VS Highest Spending',\n",
    "           'High Income VS Low Spending']\n",
    "dbscan_summary = pd.DataFrame({\n",
    "    'Color': color,\n",
    "    'Cluster DBSCAN': cluster_name,\n",
    "    'Annual Income VS Spending Score': vs_list\n",
    "})\n",
    "dbscan_summary"
   ]
  },
  {
   "cell_type": "code",
   "execution_count": null,
   "metadata": {},
   "outputs": [],
   "source": []
  }
 ],
 "metadata": {
  "kernelspec": {
   "display_name": "Python 3",
   "language": "python",
   "name": "python3"
  },
  "language_info": {
   "codemirror_mode": {
    "name": "ipython",
    "version": 3
   },
   "file_extension": ".py",
   "mimetype": "text/x-python",
   "name": "python",
   "nbconvert_exporter": "python",
   "pygments_lexer": "ipython3",
   "version": "3.7.0"
  }
 },
 "nbformat": 4,
 "nbformat_minor": 4
}
